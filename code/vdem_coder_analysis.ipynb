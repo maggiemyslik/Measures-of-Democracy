{
 "cells": [
  {
   "cell_type": "markdown",
   "metadata": {},
   "source": [
    "# Data Sourcing\n",
    "\n",
    "sourced from: https://www.v-dem.net/data/the-v-dem-dataset/coder-level-v-dem/ \n",
    "\n",
    "suggested citation:  V-Dem Dataset:\n",
    "Coppedge, Michael, John Gerring, Carl Henrik Knutsen, Staffan I. Lindberg, Jan Teorell, David Altman, Michael Bernhard, Agnes Cornell, M. Steven Fish, Lisa Gastaldi, Haakon Gjerløw, Adam Glynn, Ana Good God, Sandra Grahn, Allen Hicken, Katrin Kinzelbach, Joshua Krusell, Kyle L. Marquardt, Kelly McMann, Valeriya Mechkova, Juraj Medzihorsky, Natalia Natsika, Anja Neundorf, Pamela Paxton, Daniel Pemstein, Josefine Pernes, Oskar Ryd ́en, Johannes von R ̈omer, Brigitte Seim, Rachel Sigman, Svend-Erik Skaaning, Jeffrey Staton, Aksel Sund- str ̈om, Eitan Tzelgov, Yi-ting Wang, Tore Wig, Steven Wilson and Daniel Ziblatt. 2023. ”V-Dem [Country-Year/Country-Date] Dataset v13” Varieties of Democracy (V-Dem) Project. https://doi.org/10.23696/vdemds23.\n",
    "and:\n",
    "Pemstein, Daniel, Kyle L. Marquardt, Eitan Tzelgov, Yi-ting Wang, Juraj Medzihorsky, Joshua Krusell, Farhad Miri, and Johannes von R ̈omer. 2023. “The V-Dem Measurement Model: La- tent Variable Analysis for Cross-National and Cross-Temporal Expert-Coded Data”. V-Dem Working Paper No. 21. 8th edition. University of Gothenburg: Varieties of Democracy Insti- tute.\n",
    "\n",
    "***the 2023 dataset***\n"
   ]
  },
  {
   "cell_type": "code",
   "execution_count": 1,
   "metadata": {},
   "outputs": [
    {
     "name": "stderr",
     "output_type": "stream",
     "text": [
      "/Users/maggiemyslik/anaconda3/lib/python3.11/site-packages/pandas/core/arrays/masked.py:60: UserWarning: Pandas requires version '1.3.6' or newer of 'bottleneck' (version '1.3.5' currently installed).\n",
      "  from pandas.core import (\n"
     ]
    }
   ],
   "source": [
    "import pandas as pd \n",
    "import matplotlib.pyplot as plt\n",
    "import scale as scl"
   ]
  },
  {
   "cell_type": "markdown",
   "metadata": {},
   "source": [
    "### 1. Load Data\n",
    "***the cell below takes around 5-10 minutes to run***\n",
    "\n",
    "must have coder_level_ds_v13.csv in the vdem_coderdata (manually add) before running\n"
   ]
  },
  {
   "cell_type": "code",
   "execution_count": 2,
   "metadata": {},
   "outputs": [
    {
     "name": "stderr",
     "output_type": "stream",
     "text": [
      "/var/folders/hs/8m6m8lrn63g0q8cry5_vxbmm0000gn/T/ipykernel_32402/3260021198.py:1: DtypeWarning: Columns (1310) have mixed types. Specify dtype option on import or set low_memory=False.\n",
      "  coder_data = pd.read_csv('../data/vdem_coderdata/coder_level_ds_v13.csv')\n"
     ]
    }
   ],
   "source": [
    "coder_data = pd.read_csv('../data/vdem_coderdata/coder_level_ds_v13.csv')"
   ]
  },
  {
   "cell_type": "markdown",
   "metadata": {},
   "source": [
    "### 2. Filter for 2022 Data\n"
   ]
  },
  {
   "cell_type": "code",
   "execution_count": 3,
   "metadata": {},
   "outputs": [],
   "source": [
    "coder_data[\"historical_date\"] = pd.to_datetime(coder_data[\"historical_date\"])\n",
    "data_2022 = coder_data[coder_data[\"historical_date\"].dt.year == 2022]"
   ]
  },
  {
   "cell_type": "markdown",
   "metadata": {},
   "source": [
    "### 3. Filter Question Columns, Rescale all values between 0 and 4"
   ]
  },
  {
   "cell_type": "code",
   "execution_count": 4,
   "metadata": {},
   "outputs": [],
   "source": [
    "question_columns = [\n",
    "    col for col in coder_data.columns \n",
    "    if col.startswith((\"v2\", \"v3\")) and not col.endswith((\"_conf\", \"_beta\")) and not col.startswith(\"v2zz\")]"
   ]
  },
  {
   "cell_type": "code",
   "execution_count": null,
   "metadata": {},
   "outputs": [],
   "source": [
    "for col in question_columns:\n",
    "    coder_data[col] = pd.to_numeric(coder_data[col], errors=\"coerce\")\n",
    "    scale_max = scl.get_variable_scale(col)\n",
    "    if scale_max > 2:  \n",
    "        coder_data[col] = coder_data[col] * (5 / scale_max)"
   ]
  },
  {
   "cell_type": "markdown",
   "metadata": {},
   "source": [
    "### 4. Assess Number of Coders for each Country and Question"
   ]
  },
  {
   "cell_type": "code",
   "execution_count": null,
   "metadata": {},
   "outputs": [],
   "source": [
    "coder_counts = data_2022.groupby(\"country_id\")[question_columns].count()\n",
    "coder_counts = coder_counts.reset_index()\n",
    "coder_counts_long = coder_counts.melt(id_vars=[\"country_id\"], \n",
    "                                      var_name=\"question\", \n",
    "                                      value_name=\"num_coders\")\n",
    "coder_counts_long = coder_counts_long.sort_values(by=\"num_coders\", ascending=False)"
   ]
  },
  {
   "cell_type": "code",
   "execution_count": 15,
   "metadata": {},
   "outputs": [
    {
     "name": "stdout",
     "output_type": "stream",
     "text": [
      "Minimum: 0 coders for v3lglegpup in 84\n",
      "Maximum: 72 coders for v2zzlibdem in 100\n",
      "Median number of coders per question: 8.0\n"
     ]
    }
   ],
   "source": [
    "min_entry = coder_counts_long.loc[coder_counts_long[\"num_coders\"].idxmin()]\n",
    "max_entry = coder_counts_long.loc[coder_counts_long[\"num_coders\"].idxmax()]\n",
    "median_value = coder_counts_long[\"num_coders\"].median()\n",
    "print(f\"Minimum: {min_entry['num_coders']} coders for {min_entry['question']} in {min_entry['country_id']}\")\n",
    "print(f\"Maximum: {max_entry['num_coders']} coders for {max_entry['question']} in {max_entry['country_id']}\")\n",
    "print(f\"Median number of coders per question: {median_value}\")"
   ]
  },
  {
   "cell_type": "code",
   "execution_count": 18,
   "metadata": {},
   "outputs": [
    {
     "data": {
      "image/png": "[encoded data removed]",
      "text/plain": [
       "<Figure size 800x500 with 1 Axes>"
      ]
     },
     "metadata": {},
     "output_type": "display_data"
    }
   ],
   "source": [
    "plt.figure(figsize=(8, 5))\n",
    "plt.boxplot(coder_counts_long[\"num_coders\"], vert=False, patch_artist=True)\n",
    "plt.xlabel(\"Number of Coders\")\n",
    "plt.title(\"Distribution of Coders per Question in Each Country\")\n",
    "plt.grid(True)\n",
    "plt.show()"
   ]
  },
  {
   "cell_type": "markdown",
   "metadata": {},
   "source": [
    "### 5. Group by Question and Country, Calculate the Standard Deviations "
   ]
  },
  {
   "cell_type": "code",
   "execution_count": 5,
   "metadata": {},
   "outputs": [],
   "source": [
    "std_devs = data_2022.groupby([\"country_id\"])[question_columns].std().reset_index()\n",
    "std_devs = std_devs.melt(id_vars=[\"country_id\"], var_name=\"question\", value_name=\"std_dev\")\n",
    "top_std_devs = std_devs.sort_values(by=\"std_dev\", ascending=False).dropna()"
   ]
  },
  {
   "cell_type": "code",
   "execution_count": 6,
   "metadata": {},
   "outputs": [
    {
     "name": "stdout",
     "output_type": "stream",
     "text": [
      "\n",
      "Maximum 5 Standard Deviations:\n",
      "       country_id     question   std_dev\n",
      "70589          70   v2regpower  3.994043\n",
      "70641         122   v2regpower  3.987480\n",
      "70669         157   v2regpower  3.949684\n",
      "70613          94   v2regpower  3.947573\n",
      "70718          17  v2regproreg  3.947573\n"
     ]
    }
   ],
   "source": [
    "filtered_std_devs = std_devs[std_devs[\"std_dev\"] < 4]\n",
    "max_5_std = filtered_std_devs.nlargest(5, \"std_dev\")[[\"country_id\", \"question\", \"std_dev\"]]\n",
    "print(\"\\nMaximum 5 Standard Deviations:\")\n",
    "print(max_5_std)\n"
   ]
  },
  {
   "cell_type": "code",
   "execution_count": 15,
   "metadata": {},
   "outputs": [
    {
     "name": "stdout",
     "output_type": "stream",
     "text": [
      "\n",
      "Median Deviation: 0.4216370213557839\n"
     ]
    }
   ],
   "source": [
    "median_std = std_devs[\"std_dev\"].median()\n",
    "print(f\"\\nMedian Deviation: {median_std}\")"
   ]
  },
  {
   "cell_type": "code",
   "execution_count": 16,
   "metadata": {},
   "outputs": [
    {
     "data": {
      "image/png": "[encoded data removed]",
      "text/plain": [
       "<Figure size 800x500 with 1 Axes>"
      ]
     },
     "metadata": {},
     "output_type": "display_data"
    }
   ],
   "source": [
    "plt.figure(figsize=(8, 5))\n",
    "plt.boxplot(filtered_std_devs[\"std_dev\"], vert=False, patch_artist=True)\n",
    "plt.xlabel(\"Standard Deviations\")\n",
    "plt.title(\"Distribution of Standard Deviations Across Questions and Countries\")\n",
    "plt.grid(True)\n",
    "plt.show()"
   ]
  },
  {
   "cell_type": "markdown",
   "metadata": {},
   "source": [
    "# SAVE SMALL CSV FOR SYED"
   ]
  },
  {
   "cell_type": "code",
   "execution_count": 7,
   "metadata": {},
   "outputs": [],
   "source": [
    "filtered_std_devs.to_csv('../data/small_download_vdem.csv', index=False)"
   ]
  },
  {
   "cell_type": "markdown",
   "metadata": {},
   "source": [
    "## TO DO FOR SYED:\n",
    "1. use filtered_std_devs df > group by country > calculate median standard deviation per country > create box plot of country median values\n",
    "    - put median in the slide \n",
    "    - put box plot in the slides\n",
    "    - put the  5 countries with the highest median standard deviations in the slies (and the deviation)\n",
    "2. use filtered_std_devs df > group by question > calculate median standard deviation per question > create box plot of question median values\n",
    "    - put median in the slide \n",
    "    - put box plot in the slides\n",
    "    - put the  5 questions with the highest median standard deviations in the slies (and the deviation)"
   ]
  },
  {
   "cell_type": "code",
   "execution_count": 8,
   "metadata": {},
   "outputs": [],
   "source": [
    "## run this to download \n",
    "filtered_std_devs = pd.read_csv('../data/small_download_vdem.csv')"
   ]
  },
  {
   "cell_type": "markdown",
   "metadata": {},
   "source": [
    "# Cautionary Notes from VDem \n",
    "V-Dem is firmly committed to full transparency and release of the data that we have. However, we do ask users to take the following cautions into consideration when using our data.\n",
    "\n",
    "- The V-Dem Methodology assumes five or more coders for the \"contemporary\" period starting from 1900, originally coded to 2012. With the updates covering 2013-2022 it has for a few country-variable combinations been impossible to achieve that target. From analysis, we have found that this at times can result in significant changes in point estimates, most likely as a consequence of self-selected attrition of Country Experts, rather than actual meaninful changes in the latent state of a given country. We therefore strongly advise against using point estimates for variable-years where a country has three or fewer ratings. We suggest to filter these out before conducting any type of analysis. Since v7, we include a variable that for every expert- coded variable, suffixed with \"_nr\", shows the count of ratings per country-year and variable.\n",
    "- Point estimates can jump around slightly due to the simulation-based nature of the estimation process and expert turnover. Consumers of the data should therefore always be attentive to the uncertainty about the estimates. Further, the uncertainty also provides vital information about the degree to which one can be certain that a change in a score reflects an actual change in the level of the concept being measured.\n",
    "- We constantly improve the coding of factual data (A) to make it as accurate as possible. This may result in changes at the index-level.\n",
    "- Observations for Exclusion and Legitimation indicators (section 3.13 and section 3.14) with less than three coders per country-date (*_nr < 3) have been removed. Furthermore, observations for Exclusion indices (section 5.6) have been removed if not at least 3 components have at least 3 coders per country-date.\n",
    "- Observations for Civic and Academic Space indicators (section 3.15) with less than 3 coders per country-date (*_nr < 3) have been removed.\n",
    "- hese variables had issues with convergence: v2caconmob, v2cademmob, v2cainsaut, v2capolit, v2catrauni, v2clacjust, v2cltrnslw, v2dlcommon, v2dlencmps, v2elembcap, v2elffelrbin, v2elintim, v2elpdcamp, v2elpeace, v2elpubfin, v2exdjcbhg, v2jupoatck, v2lgdomchm, v2lginvstp, v2peasbgen, v2peasjgeo, v2peasjsoecon, v2pehealth, v2pepwrgeo, v2psprlnks, v2regoppgroupssize, v2smgovab, v2smpolhate, v2x_accountability, v2x_neopat, v2xdl_delib, v2xeg_eqdr, v2xlg_legcon, v2xnp_- client, v2xpe_exlecon, v2xpe_exlgender, v2xpe_exlgeo. Please see individual codebook entries for additional information. For details on interpreting convergence information, please refer to 1.4.5, the Methodology Document and Pemstein et al. (2023).\n",
    "- We further ask you to use the following percentage variables with caution: \n",
    "  - Female journalists (v2mefemjrn)\n",
    "  -  Weaker civil liberties population (v2clsnlpct)\n",
    "- Historical V-Dem: In the coding of several Historical V-Dem A-type variables, the histori- cal part of the time series–including 20 years of overlap with the \"contemporary\" time series (typically 1900-1920)–were conducted completely independently from the existing coding in the original V-Dem dataset, by one or more new coders. For many of these historical variables, we have gone through and checked the consistency of the coding, further scrutinized the sources, and determined which coding represents the most appropriate score after deliberation. We have subsequently made the appropriate adjustments to the data.\n",
    "\n",
    "For other historical A variables we have yet to finalize this process. For these variables, the scores reported for the overlap period (typically 1900-1920) in the dataset are the \"contemporary\" V- Dem scores, by default. This means that for some countries, where there is disagreement in the historical and contemporary coding in the starting year for the contemporary time series (typically 1900), there may be artificial changes between that year and the year before that do not necessarily reflect a real-world change in the political system in the country. Hence, we\n",
    "  advise users to exert caution before running analysis on the entire time series extending across both the historical and contemporary coding periods.\n",
    "\n",
    "\n",
    "Please also note that for the variables where there is not full correspondence between the his- torical (1789-1920) and contemporary (1900-2022) coding, the historical coding of the variables is also provided in their original form as separate variables, carrying a \"v3\" rather than a \"v2\" prefix on the variable tag. These \"v3\" variables are gathered together with a number of new (A and C type) variables that are currently only coded for the Historical V-Dem sample, in a separate section of the codebook."
   ]
  }
 ],
 "metadata": {
  "kernelspec": {
   "display_name": "base",
   "language": "python",
   "name": "python3"
  },
  "language_info": {
   "codemirror_mode": {
    "name": "ipython",
    "version": 3
   },
   "file_extension": ".py",
   "mimetype": "text/x-python",
   "name": "python",
   "nbconvert_exporter": "python",
   "pygments_lexer": "ipython3",
   "version": "3.11.5"
  }
 },
 "nbformat": 4,
 "nbformat_minor": 2
}
