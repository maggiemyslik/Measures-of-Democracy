{
 "cells": [
  {
   "cell_type": "code",
   "execution_count": 3,
   "metadata": {},
   "outputs": [
    {
     "name": "stderr",
     "output_type": "stream",
     "text": [
      "/Users/maggiemyslik/anaconda3/lib/python3.11/site-packages/pandas/core/arrays/masked.py:60: UserWarning: Pandas requires version '1.3.6' or newer of 'bottleneck' (version '1.3.5' currently installed).\n",
      "  from pandas.core import (\n"
     ]
    }
   ],
   "source": [
    "import pandas as pd\n",
    "import functions"
   ]
  },
  {
   "cell_type": "markdown",
   "metadata": {},
   "source": [
    "# LOAD VDEM:"
   ]
  },
  {
   "cell_type": "code",
   "execution_count": 2,
   "metadata": {},
   "outputs": [],
   "source": [
    "vdem = pd.read_csv(\"../data/raw_downloads/vdem.csv\")\n",
    "\n",
    "vdem = vdem[[\n",
    "    'country_name', \n",
    "    'country_text_id', \n",
    "    'country_id', \n",
    "    'year', \n",
    "    'v2x_polyarchy',      # Electoral Democracy Index\n",
    "    'v2x_libdem',         # Liberal Democracy Index\n",
    "    'v2x_partipdem',      # Participatory Democracy Index\n",
    "    'v2x_delibdem',       # Deliberative Democracy Index\n",
    "    'v2x_egaldem',        # Egalitarian Democracy Index\n",
    "    'v2x_regime',         # Regime Type\n",
    "    'v2xel_frefair',      # Free and Fair Elections\n",
    "    'v2x_clpriv',         # Civil Liberties\n",
    "    'v2x_accountability', # Accountability\n",
    "    'v2x_civlib'          # Civil Liberties Index\n",
    "]]\n",
    "\n",
    "vdem.rename(columns={\n",
    "    'v2x_polyarchy': 'electoral_democracy',\n",
    "    'v2x_libdem': 'liberal_democracy',\n",
    "    'v2x_partipdem': 'participatory_democracy',\n",
    "    'v2x_delibdem': 'deliberative_democracy',\n",
    "    'v2x_egaldem': 'egalitarian_democracy',\n",
    "    'v2x_regime': 'regime_type',\n",
    "    'v2xel_frefair': 'free_and_fair_elections',\n",
    "    'v2x_clpriv': 'civil_liberties',\n",
    "    'v2x_accountability': 'accountability',\n",
    "    'v2x_civlib': 'civil_liberties_index'\n",
    "}, inplace=True)\n",
    "\n",
    "vdem.to_csv(\"../data/vdem_small.csv\", index=False)"
   ]
  },
  {
   "cell_type": "markdown",
   "metadata": {},
   "source": [
    "# LOAD OTHER DEMOCRACY MEASURES:\n",
    "## 1. Global State of Democracy (GSOD) Indices: Democracy Tracker \n",
    "\n",
    "- https://www.idea.int/democracytracker/gsod-indices/ \n",
    "- https://www.idea.int/data-tools/tools/global-state-democracy-indices \n",
    "- [code book](https://www.idea.int/sites/default/files/2024-09/gsod-indices-codebook-v8-2024.pdf)"
   ]
  },
  {
   "cell_type": "code",
   "execution_count": 3,
   "metadata": {},
   "outputs": [],
   "source": [
    "gsod = pd.read_excel(\"../data/raw_downloads/gsod.xlsx\")\n",
    "\n",
    "selected_columns = {\n",
    "    'country_name': 'country',  \n",
    "    'year': 'year',  \n",
    "    'representation_est': 'representation_index',  # Overall representation index\n",
    "    'cred_elect_est': 'credible_elections',  # Credibility of elections\n",
    "    'inclu_suff_est': 'inclusive_suffrage',  # Inclusiveness of suffrage\n",
    "    'free_parties_est': 'free_political_parties',  # Freedom of political parties\n",
    "    'rights_est': 'rights_index',  # Overall rights index\n",
    "    'civil_lib_est': 'civil_liberties',  # Civil liberties\n",
    "    'free_express_est': 'freedom_of_expression',  # Freedom of expression\n",
    "    'rule_law_est': 'rule_of_law',  # Rule of law\n",
    "    'jud_ind_est': 'judicial_independence',  # Judicial independence\n",
    "    'abs_corrupt_est': 'corruption_level',  # Levels of corruption\n",
    "    'participation_est': 'participation_index',  # Overall participation index\n",
    "    'civil_soc_est': 'civil_society_engagement',  # Civil society engagement\n",
    "    'basic_welf_est': 'basic_welfare',  # Provision of basic welfare\n",
    "    'pol_equal_est': 'political_equality'  # Political equality\n",
    "}\n",
    "\n",
    "gsod = gsod[list(selected_columns.keys())].rename(columns=selected_columns)"
   ]
  },
  {
   "cell_type": "markdown",
   "metadata": {},
   "source": [
    "## 2. EIU Report: Democracy Index\n",
    "- https://www.eiu.com/n/campaigns/democracy-index-2023/"
   ]
  },
  {
   "cell_type": "code",
   "execution_count": 4,
   "metadata": {},
   "outputs": [],
   "source": [
    "eiu = pd.read_excel(\"../data/raw_downloads/eiu.xlsx\")\n",
    "year_columns = [col for col in eiu.columns if col.isdigit()]\n",
    "eiu = pd.melt(\n",
    "    eiu,\n",
    "    id_vars=['Economy ISO3', 'Economy Name'],  # Columns to keep\n",
    "    value_vars=year_columns,  # Columns to unpivot\n",
    "    var_name='year',          # Name for the year column\n",
    "    value_name='eiu_rating'       # Name for the rating column\n",
    ")\n",
    "eiu.rename(\n",
    "    columns={\n",
    "        'Economy ISO3': 'country_code',\n",
    "        'Economy Name': 'country',\n",
    "        'Indicator ID': 'indicator_id',\n",
    "        'Indicator': 'indicator'\n",
    "    },\n",
    "    inplace=True\n",
    ")\n",
    "\n",
    "eiu['year'] = eiu['year'].astype(int)"
   ]
  },
  {
   "cell_type": "markdown",
   "metadata": {},
   "source": [
    "## 3. Vanahan Measures\n",
    "- [codebook](https://xmarquez.github.io/democracyData/reference/vanhanen.html)\n",
    "- [dataset](https://services.fsd.tuni.fi/catalogue/FSD1289?tab=summary&lang=en&study_language=en)"
   ]
  },
  {
   "cell_type": "code",
   "execution_count": 38,
   "metadata": {},
   "outputs": [],
   "source": [
    "vanahan = pd.read_csv(\"../data/raw_downloads/vanahan.csv\", delimiter=\";\")\n",
    "\n",
    "democracy_columns = [col for col in vanahan.columns if col.startswith(\"q\") and col.endswith(\"_3\")]\n",
    "relevant_columns = [\"bv1\"] + democracy_columns\n",
    "vanahan = vanahan[relevant_columns]\n",
    "\n",
    "vanahan = vanahan.melt(\n",
    "    id_vars=[\"bv1\"], \n",
    "    value_vars=democracy_columns, \n",
    "    var_name=\"year_column\", \n",
    "    value_name=\"democracy_index\"\n",
    ")\n",
    "\n",
    "vanahan[\"year\"] = vanahan[\"year_column\"].str.extract(r\"q(\\d+)_3\").astype(int) + 1809\n",
    "vanahan = vanahan.drop(columns=[\"year_column\"])\n",
    "vanahan = vanahan.rename(columns={\"bv1\": \"country\"})\n",
    "\n",
    "vanahan['democracy_index'] = vanahan['democracy_index'].str.replace(\",\", \"\", regex=False)\n",
    "vanahan['democracy_index'] = pd.to_numeric(vanahan['democracy_index'], errors='coerce')\n",
    "vanahan = vanahan.dropna(subset=['democracy_index'])\n",
    "vanahan = vanahan.reset_index(drop=True)\n",
    "vanahan = vanahan[(vanahan['democracy_index'] >= 0) & (vanahan['democracy_index'] <= 100)]"
   ]
  },
  {
   "cell_type": "markdown",
   "metadata": {},
   "source": [
    "## 4. Polity Score: \n",
    "- https://www.systemicpeace.org/inscrdata.html \n",
    "- https://ourworldindata.org/grapher/democracy-index-polity"
   ]
  },
  {
   "cell_type": "code",
   "execution_count": 5,
   "metadata": {},
   "outputs": [],
   "source": [
    "polity = pd.read_csv(\"../data/raw_downloads/polity.csv\")\n",
    "polity.rename(\n",
    "    columns={\n",
    "        'Entity': 'country',\n",
    "        'Code': 'country_code',\n",
    "        'Year': 'year',\n",
    "        'Democracy': 'polity_democracy_score'\n",
    "    },\n",
    "    inplace=True\n",
    ")"
   ]
  },
  {
   "cell_type": "markdown",
   "metadata": {},
   "source": [
    "## 5. Freedom House: Freedom in the World Report\n",
    "https://freedomhouse.org/report/freedom-world#Data \n",
    "\n",
    "INDEX for 2013-2021:                                        \n",
    "- F=Free, PF=Partly Free, NF=Not Free\t\t\t\t\t\t\t\t\t\t\n",
    "- PR Rating=Political Rights Rating\t\t\t\t\t\t\t\t\t\t\n",
    "- CL Rating=Civil Liberties Rating\t\t\t\t\t\t\t\t\t\t\n",
    "- A =aggregate score for the A. Electoral Process subcategory\t\t\t\t\t\t\t\t\t\t\n",
    "- B =aggregate score for the B. Political Pluralism and Participation subcategory\t\t\t\t\t\t\t\t\t\t\n",
    "- C =aggregate score for the C. Functioning of Government subcategory\t\t\t\t\t\t\t\t\t\t\n",
    "- Add Q (Add B)=score for Additional Discretionary Question (B)\t\t\t\t\t\t\t\t\t\t\n",
    "- Add A=score for Additional Discretionary Question A\t\t\t\t\t\t\t\t\t\t\n",
    "- PR =aggregate score for the Political Rights category\t\t\t\t\t\t\t\t\t\t\n",
    "- D =aggregate score for the D. Freedom of Expression and Belief subcategory\t\t\t\t\t\t\t\t\t\t\n",
    "- E =aggregate score for the E. Associational and Organizational Rights subcategory\t\t\t\t\t\t\t\t\t\t\n",
    "- F =aggregate score for the F. Rule of Law subcategory\t\t\t\t\t\t\t\t\t\t\n",
    "- G =aggregate score for te G. Personal Autonomy and Individual Rights subcategory\t\t\t\t\t\t\t\t\t\t\n",
    "- CL =aggregate score for the Civil Liberties category\t\t\t\t\t\t\t\t\t\t\n",
    "- Total =aggregate score for all categories\t"
   ]
  },
  {
   "cell_type": "code",
   "execution_count": 6,
   "metadata": {},
   "outputs": [],
   "source": [
    "freedom_house = pd.read_csv(\"../data/raw_downloads/fh.csv\")\n",
    "freedom_house.columns = freedom_house.iloc[0] \n",
    "freedom_house = freedom_house[1:].reset_index(drop=True)\n",
    "columns = [\n",
    "    \"Edition\",       # Year\n",
    "    \"PR\",            # Political rights aggregate\n",
    "    \"CL\",            # Civil liberties aggregate\n",
    "    \"Total\",         # Overall score\n",
    "    \"A1\",            # Electoral process\n",
    "    \"A2\",            # Political pluralism and participation\n",
    "    \"A3\",            # Functioning of government\n",
    "    \"D\",             # Freedom of expression\n",
    "    \"E\",             # Associational and organizational rights\n",
    "    \"F\"              # Rule of law\n",
    "]\n",
    "freedom_house = freedom_house[columns]\n",
    "freedom_house.rename(\n",
    "    columns={\n",
    "        \"Edition\": \"year\",\n",
    "        \"PR\": \"political_rights_aggregate\",\n",
    "        \"CL\": \"civil_liberties_aggregate\",\n",
    "        \"Total\": \"overall_score\",\n",
    "        \"A1\": \"electoral_process_score\",\n",
    "        \"A2\": \"political_pluralism_score\",\n",
    "        \"A3\": \"functioning_of_government_score\",\n",
    "        \"D\": \"freedom_of_expression_score\",\n",
    "        \"E\": \"associational_rights_score\",\n",
    "        \"F\": \"rule_of_law_score\"\n",
    "    },\n",
    "    inplace=True\n",
    ")"
   ]
  },
  {
   "cell_type": "markdown",
   "metadata": {},
   "source": [
    "## 6. ACLP\n",
    "\n",
    "https://sites.google.com/site/joseantoniocheibub/datasets/aclp?authuser=0 \n",
    "\n",
    "CODEBOOK:\n",
    "- YEAR -> year (Year of observation.)\n",
    "- REG -> regime_type (0 for democracy, 1 for dictatorship.)\n",
    "- INST -> institution_type (Classification of political regimes.)\n",
    "- DIVIDED -> division_of_powers (Extent of formal power divisions in dictatorships.)\n",
    "- AUT -> autocracy_type (Dictatorship classification based on legislature existence.)\n",
    "- CIVLIB -> civil_liberties (Freedom House civil liberty scale, 1 to 7.)\n",
    "- POLLIB -> political_liberties (Freedom House political liberty scale, 1 to 7.)\n",
    "- EFFPARTY -> effective_parties (Number of effective political parties.)\n",
    "- MOBILIZE -> party_mobilization (Distinguishes dictatorship types by party presence.)\n",
    "- SEATS -> largest_party_seats (Percentage of lower house seats held by the largest party.)\n",
    "- STRD -> transitions_to_democracy (Sum of past transitions to democracy.)\n",
    "- STRA -> transitions_to_authoritarianism (Sum of past transitions to authoritarianism.)\n",
    "- UNSTABLE -> political_instability (Indicates regime transitions from 1950 to 1990.)\n",
    "- WAR -> war_present (Dummy variable for war presence in the country.)"
   ]
  },
  {
   "cell_type": "code",
   "execution_count": 7,
   "metadata": {},
   "outputs": [],
   "source": [
    "aclp = pd.read_excel(\"../data/raw_downloads/aclp.xls\")\n",
    "columns = {\n",
    "    \"COUNTRY\": \"country\",\n",
    "    \"YEAR\": \"year\",\n",
    "    \"REG\": \"regime_type\",\n",
    "    \"INST\": \"institution_type\",\n",
    "    \"DIVIDED\": \"division_of_powers\",\n",
    "    \"AUT\": \"autocracy_type\",\n",
    "    \"CIVLIB\": \"civil_liberties\",\n",
    "    \"POLLIB\": \"political_liberties\",\n",
    "    \"EFFPARTY\": \"effective_parties\",\n",
    "    \"MOBILIZE\": \"party_mobilization\",\n",
    "    \"SEATS\": \"largest_party_seats\",\n",
    "    \"STRD\": \"transitions_to_democracy\",\n",
    "    \"STRA\": \"transitions_to_authoritarianism\",\n",
    "    \"UNSTABLE\": \"political_instability\",\n",
    "    \"WAR\": \"war_present\",\n",
    "}\n",
    "aclp = aclp[columns.keys()].rename(columns=columns)\n",
    "aclp['country'] = aclp['country'].map(functions.country_mapping)"
   ]
  },
  {
   "cell_type": "markdown",
   "metadata": {},
   "source": [
    "# COMBINE DATA SETS"
   ]
  },
  {
   "cell_type": "code",
   "execution_count": null,
   "metadata": {},
   "outputs": [],
   "source": []
  }
 ],
 "metadata": {
  "kernelspec": {
   "display_name": "base",
   "language": "python",
   "name": "python3"
  },
  "language_info": {
   "codemirror_mode": {
    "name": "ipython",
    "version": 3
   },
   "file_extension": ".py",
   "mimetype": "text/x-python",
   "name": "python",
   "nbconvert_exporter": "python",
   "pygments_lexer": "ipython3",
   "version": "3.11.5"
  }
 },
 "nbformat": 4,
 "nbformat_minor": 2
}
